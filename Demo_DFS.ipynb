{
 "cells": [
  {
   "cell_type": "markdown",
   "id": "096c0e1f",
   "metadata": {},
   "source": [
    "### OCI Data Science - Useful Tips\n",
    "<details>\n",
    "<summary><font size=\"2\">Check for Public Internet Access</font></summary>\n",
    "\n",
    "```python\n",
    "import requests\n",
    "response = requests.get(\"https://oracle.com\")\n",
    "assert response.status_code==200, \"Internet connection failed\"\n",
    "```\n",
    "</details>\n",
    "<details>\n",
    "<summary><font size=\"2\">Helpful Documentation </font></summary>\n",
    "<ul><li><a href=\"https://docs.cloud.oracle.com/en-us/iaas/data-science/using/data-science.htm\">Data Science Service Documentation</a></li>\n",
    "<li><a href=\"https://docs.cloud.oracle.com/iaas/tools/ads-sdk/latest/index.html\">ADS documentation</a></li>\n",
    "</ul>\n",
    "</details>\n",
    "<details>\n",
    "<summary><font size=\"2\">Typical Cell Imports and Settings for ADS</font></summary>\n",
    "\n",
    "```python\n",
    "%load_ext autoreload\n",
    "%autoreload 2\n",
    "%matplotlib inline\n",
    "\n",
    "import warnings\n",
    "warnings.filterwarnings('ignore')\n",
    "\n",
    "import logging\n",
    "logging.basicConfig(format='%(levelname)s:%(message)s', level=logging.ERROR)\n",
    "\n",
    "import ads\n",
    "from ads.dataset.factory import DatasetFactory\n",
    "from ads.automl.provider import OracleAutoMLProvider\n",
    "from ads.automl.driver import AutoML\n",
    "from ads.evaluations.evaluator import ADSEvaluator\n",
    "from ads.common.data import ADSData\n",
    "from ads.explanations.explainer import ADSExplainer\n",
    "from ads.explanations.mlx_global_explainer import MLXGlobalExplainer\n",
    "from ads.explanations.mlx_local_explainer import MLXLocalExplainer\n",
    "from ads.catalog.model import ModelCatalog\n",
    "from ads.common.model_artifact import ModelArtifact\n",
    "```\n",
    "</details>\n",
    "<details>\n",
    "<summary><font size=\"2\">Useful Environment Variables</font></summary>\n",
    "\n",
    "```python\n",
    "import os\n",
    "print(os.environ[\"NB_SESSION_COMPARTMENT_OCID\"])\n",
    "print(os.environ[\"PROJECT_OCID\"])\n",
    "print(os.environ[\"USER_OCID\"])\n",
    "print(os.environ[\"TENANCY_OCID\"])\n",
    "print(os.environ[\"NB_REGION\"])\n",
    "```\n",
    "</details>"
   ]
  },
  {
   "cell_type": "code",
   "execution_count": null,
   "id": "b9a7f173",
   "metadata": {},
   "outputs": [],
   "source": [
    "# Upgrade Oracle ADS to pick up latest features and maintain compatibility with Oracle Cloud Infrastructure.\n",
    "!pip install -U oracle-ads"
   ]
  },
  {
   "cell_type": "markdown",
   "id": "f104e784",
   "metadata": {},
   "source": [
    "## Preparando Instância Data Flow Studio"
   ]
  },
  {
   "cell_type": "code",
   "execution_count": 2,
   "id": "b6fe3948",
   "metadata": {},
   "outputs": [],
   "source": [
    "# importando a biblioteca ADS e realizando a autenticação\n",
    "import ads\n",
    "\n",
    "ads.set_auth(\"resource_principal\")"
   ]
  },
  {
   "cell_type": "code",
   "execution_count": 3,
   "id": "103a4b4e",
   "metadata": {},
   "outputs": [],
   "source": [
    "import os\n",
    "\n",
    "compartment_id = os.environ.get(\"NB_SESSION_COMPARTMENT_OCID\")\n",
    "logs_bucket_uri = \"oci://bucket-logs@id3kyspkytmr\"\n",
    "archive_uri = \"oci://bucket-library@id3kyspkytmr/archive3.zip\"\n"
   ]
  },
  {
   "cell_type": "code",
   "execution_count": 4,
   "id": "7d709fd4",
   "metadata": {},
   "outputs": [],
   "source": [
    "import json\n",
    "\n",
    "def prepare_command(command: dict) -> str:\n",
    "    \"\"\"Converts dictionary command to the string formatted commands.\"\"\"\n",
    "    return f\"'{json.dumps(command)}'\""
   ]
  },
  {
   "cell_type": "code",
   "execution_count": 5,
   "id": "889f4070",
   "metadata": {},
   "outputs": [],
   "source": [
    "%load_ext dataflow.magics"
   ]
  },
  {
   "cell_type": "code",
   "execution_count": null,
   "id": "a80df942",
   "metadata": {},
   "outputs": [],
   "source": [
    "%help"
   ]
  },
  {
   "cell_type": "code",
   "execution_count": null,
   "id": "1a629a4c",
   "metadata": {},
   "outputs": [],
   "source": [
    "command = prepare_command(\n",
    "    {\n",
    "        \"compartmentId\": compartment_id,\n",
    "        \"displayName\": \"App_Demo_DataFlowStudio\",\n",
    "        \"language\": \"PYTHON\",\n",
    "        \"sparkVersion\": \"3.2.1\",\n",
    "        \"numExecutors\": 4,\n",
    "        \"archiveUri\": archive_uri,\n",
    "        \"driverShape\": \"VM.Standard.E4.Flex\",\n",
    "        \"executorShape\": \"VM.Standard.E4.Flex\",\n",
    "        \"driverShapeConfig\": {\"ocpus\": 1, \"memoryInGBs\": 8},\n",
    "        \"executorShapeConfig\": {\"ocpus\": 1, \"memoryInGBs\": 8},\n",
    "        \"logsBucketUri\": logs_bucket_uri,\n",
    "        \"type\": \"SESSION\",\n",
    "        \"logsBucketUri\": logs_bucket_uri,\n",
    "        }\n",
    ") \n",
    "%create_session -l python -c $command"
   ]
  },
  {
   "cell_type": "code",
   "execution_count": null,
   "id": "7dabcfbd",
   "metadata": {},
   "outputs": [],
   "source": [
    "%use_session -s ocid1.dataflowapplication.oc1.iad.anuwcljstsbrckqayo5gcntzzwjlbub4a7gwusy3jriboxjx3ox7mqifg4xa"
   ]
  },
  {
   "cell_type": "code",
   "execution_count": 7,
   "id": "9c052469",
   "metadata": {},
   "outputs": [
    {
     "data": {
      "text/html": [
       "<table>\n",
       "<tr><th>Session</th><th>State</th><th>Max Duration In Minutes</th><th>Total Execution Time In Minutes</th><th>Remaining Duration In Minutes</th><th>Current Session</th></tr><tr><td>ocid1.dataflowapplication.oc1.iad.anuwcljstsbrckqayo5gcntzzwjlbub4a7gwusy3jriboxjx3ox7mqifg4xa</td><td>IN_PROGRESS</td><td>1440</td><td>33</td><td>1407</td><td><a target=\"_blank\" href=\"https://console.us-phoenix-1.oraclecloud.com/data-flow/runs/details/ocid1.dataflowrun.oc1.iad.anuwcljrtsbrckqar5vvzh5e5m3f4mekwtxt54pnlaskihh2cji266kpih2q?region=us-ashburn-1\">Dataflow Run</a></td></tr></table>"
      ],
      "text/plain": [
       "<IPython.core.display.HTML object>"
      ]
     },
     "metadata": {},
     "output_type": "display_data"
    }
   ],
   "source": [
    "%status"
   ]
  },
  {
   "cell_type": "code",
   "execution_count": null,
   "id": "bf946205",
   "metadata": {},
   "outputs": [],
   "source": [
    "%stop_session"
   ]
  },
  {
   "cell_type": "code",
   "execution_count": 6,
   "id": "0a34e56b",
   "metadata": {},
   "outputs": [
    {
     "name": "stdout",
     "output_type": "stream",
     "text": [
      "Setting up the Cluster..\n"
     ]
    },
    {
     "data": {
      "application/vnd.jupyter.widget-view+json": {
       "model_id": "51e833ba2aba4827a993bfc5e5c074df",
       "version_major": 2,
       "version_minor": 0
      },
      "text/plain": [
       "FloatProgress(value=0.0, bar_style='info', description='Progress:', layout=Layout(height='25px', width='50%'),…"
      ]
     },
     "metadata": {},
     "output_type": "display_data"
    },
    {
     "name": "stdout",
     "output_type": "stream",
     "text": [
      "Cluster setup is still in progress.\n",
      "Cluster setup is still in progress.\n",
      "Cluster setup is still in progress.\n",
      "Cluster setup is still in progress.\n",
      "Cluster setup is still in progress.\n",
      "Cluster setup is still in progress.\n",
      "Cluster setup is still in progress.\n",
      "Cluster setup is still in progress.\n",
      "Cluster is ready..\n",
      "Starting Spark application..\n"
     ]
    },
    {
     "data": {
      "text/html": [
       "<table>\n",
       "<tr><th>Session ID</th><th>Kind</th><th>State</th><th>Current session</th></tr><tr><td>ocid1.dataflowapplication.oc1.iad.anuwcljstsbrckqayo5gcntzzwjlbub4a7gwusy3jriboxjx3ox7mqifg4xa</td><td>pyspark</td><td>IN_PROGRESS</td><td><a target=\"_blank\" href=\"https://console.us-phoenix-1.oraclecloud.com/data-flow/runs/details/ocid1.dataflowrun.oc1.iad.anuwcljrtsbrckqar5vvzh5e5m3f4mekwtxt54pnlaskihh2cji266kpih2q?region=us-ashburn-1\">Dataflow Run</a></td></tr></table>"
      ],
      "text/plain": [
       "<IPython.core.display.HTML object>"
      ]
     },
     "metadata": {},
     "output_type": "display_data"
    },
    {
     "data": {
      "application/vnd.jupyter.widget-view+json": {
       "model_id": "",
       "version_major": 2,
       "version_minor": 0
      },
      "text/plain": [
       "FloatProgress(value=0.0, bar_style='info', description='Progress:', layout=Layout(height='25px', width='50%'),…"
      ]
     },
     "metadata": {},
     "output_type": "display_data"
    },
    {
     "name": "stdout",
     "output_type": "stream",
     "text": [
      "SparkSession available as 'spark'.\n",
      "SparkContext available as 'sc'.\n"
     ]
    }
   ],
   "source": [
    "command = prepare_command(\n",
    "    {\n",
    "        \"compartmentId\": compartment_id,\n",
    "        \"displayName\": \"App_Demo_DataFlowStudio\",\n",
    "        \"applicationId\": \"ocid1.dataflowapplication.oc1.iad.anuwcljstsbrckqayo5gcntzzwjlbub4a7gwusy3jriboxjx3ox7mqifg4xa\",\n",
    "    }\n",
    ")\n",
    "\n",
    "%activate_session -l python -c $command"
   ]
  },
  {
   "cell_type": "markdown",
   "id": "1ff84efd",
   "metadata": {},
   "source": [
    "## Script Deltalake"
   ]
  },
  {
   "cell_type": "code",
   "execution_count": 8,
   "id": "c5719179",
   "metadata": {},
   "outputs": [
    {
     "data": {
      "application/vnd.jupyter.widget-view+json": {
       "model_id": "",
       "version_major": 2,
       "version_minor": 0
      },
      "text/plain": [
       "FloatProgress(value=0.0, bar_style='info', description='Progress:', layout=Layout(height='25px', width='50%'),…"
      ]
     },
     "metadata": {},
     "output_type": "display_data"
    }
   ],
   "source": [
    "%%spark\n",
    "import os\n",
    "import pyspark\n",
    "from pyspark.sql import SparkSession\n",
    "from pyspark.sql.functions import expr\n",
    "from pyspark.sql.functions import col\n",
    "from pyspark.sql.functions import lit\n",
    "from delta import *\n",
    "from datetime import datetime"
   ]
  },
  {
   "cell_type": "code",
   "execution_count": 9,
   "id": "b78f8270",
   "metadata": {},
   "outputs": [
    {
     "data": {
      "application/vnd.jupyter.widget-view+json": {
       "model_id": "",
       "version_major": 2,
       "version_minor": 0
      },
      "text/plain": [
       "FloatProgress(value=0.0, bar_style='info', description='Progress:', layout=Layout(height='25px', width='50%'),…"
      ]
     },
     "metadata": {},
     "output_type": "display_data"
    }
   ],
   "source": [
    "%%spark\n",
    "builder = pyspark.sql.SparkSession.builder.appName(\"AppInLabDelta\") \\\n",
    "    .config(\"spark.sql.extensions\", \"io.delta.sql.DeltaSparkSessionExtension\") \\\n",
    "    .config(\"spark.sql.catalog.spark_catalog\", \"org.apache.spark.sql.delta.catalog.DeltaCatalog\")\n",
    "\n",
    "spark = configure_spark_with_delta_pip(builder).getOrCreate()"
   ]
  },
  {
   "cell_type": "code",
   "execution_count": 10,
   "id": "a31684e3",
   "metadata": {},
   "outputs": [
    {
     "data": {
      "application/vnd.jupyter.widget-view+json": {
       "model_id": "",
       "version_major": 2,
       "version_minor": 0
      },
      "text/plain": [
       "FloatProgress(value=0.0, bar_style='info', description='Progress:', layout=Layout(height='25px', width='50%'),…"
      ]
     },
     "metadata": {},
     "output_type": "display_data"
    }
   ],
   "source": [
    "%%spark\n",
    "df_nyc_tlc = spark.read.parquet(\"oci://hosted-ds-datasets@bigdatadatasciencelarge/nyc_tlc/201[8,9]/**/data.parquet\", header=False, inferSchema=True)"
   ]
  },
  {
   "cell_type": "code",
   "execution_count": 11,
   "id": "0c9d9fca",
   "metadata": {},
   "outputs": [
    {
     "data": {
      "application/vnd.jupyter.widget-view+json": {
       "model_id": "",
       "version_major": 2,
       "version_minor": 0
      },
      "text/plain": [
       "FloatProgress(value=0.0, bar_style='info', description='Progress:', layout=Layout(height='25px', width='50%'),…"
      ]
     },
     "metadata": {},
     "output_type": "display_data"
    },
    {
     "name": "stdout",
     "output_type": "stream",
     "text": [
      "root\n",
      " |-- vendor_id: string (nullable = true)\n",
      " |-- pickup_at: timestamp (nullable = true)\n",
      " |-- dropoff_at: timestamp (nullable = true)\n",
      " |-- passenger_count: byte (nullable = true)\n",
      " |-- trip_distance: float (nullable = true)\n",
      " |-- rate_code_id: string (nullable = true)\n",
      " |-- store_and_fwd_flag: string (nullable = true)\n",
      " |-- pickup_location_id: integer (nullable = true)\n",
      " |-- dropoff_location_id: integer (nullable = true)\n",
      " |-- payment_type: string (nullable = true)\n",
      " |-- fare_amount: float (nullable = true)\n",
      " |-- extra: float (nullable = true)\n",
      " |-- mta_tax: float (nullable = true)\n",
      " |-- tip_amount: float (nullable = true)\n",
      " |-- tolls_amount: float (nullable = true)\n",
      " |-- improvement_surcharge: float (nullable = true)\n",
      " |-- total_amount: float (nullable = true)"
     ]
    }
   ],
   "source": [
    "%%spark\n",
    "df_nyc_tlc.printSchema()"
   ]
  },
  {
   "cell_type": "code",
   "execution_count": 12,
   "id": "9b820126",
   "metadata": {},
   "outputs": [
    {
     "data": {
      "application/vnd.jupyter.widget-view+json": {
       "model_id": "",
       "version_major": 2,
       "version_minor": 0
      },
      "text/plain": [
       "FloatProgress(value=0.0, bar_style='info', description='Progress:', layout=Layout(height='25px', width='50%'),…"
      ]
     },
     "metadata": {},
     "output_type": "display_data"
    },
    {
     "name": "stdout",
     "output_type": "stream",
     "text": [
      "+---------+-------------------+-------------------+---------------+-------------+------------+------------------+------------------+-------------------+------------+-----------+-----+-------+----------+------------+---------------------+------------+\n",
      "|vendor_id|          pickup_at|         dropoff_at|passenger_count|trip_distance|rate_code_id|store_and_fwd_flag|pickup_location_id|dropoff_location_id|payment_type|fare_amount|extra|mta_tax|tip_amount|tolls_amount|improvement_surcharge|total_amount|\n",
      "+---------+-------------------+-------------------+---------------+-------------+------------+------------------+------------------+-------------------+------------+-----------+-----+-------+----------+------------+---------------------+------------+\n",
      "|        1|2018-01-01 00:21:05|2018-01-01 00:24:23|              1|          0.5|           1|                 N|                41|                 24|           2|        4.5|  0.5|    0.5|       0.0|         0.0|                  0.3|         5.8|\n",
      "|        1|2018-01-01 00:44:55|2018-01-01 01:03:05|              1|          2.7|           1|                 N|               239|                140|           2|       14.0|  0.5|    0.5|       0.0|         0.0|                  0.3|        15.3|\n",
      "+---------+-------------------+-------------------+---------------+-------------+------------+------------------+------------------+-------------------+------------+-----------+-----+-------+----------+------------+---------------------+------------+\n",
      "only showing top 2 rows"
     ]
    }
   ],
   "source": [
    "%%spark\n",
    "df_nyc_tlc.show(2)"
   ]
  },
  {
   "cell_type": "code",
   "execution_count": 13,
   "id": "02553ca5",
   "metadata": {},
   "outputs": [
    {
     "data": {
      "application/vnd.jupyter.widget-view+json": {
       "model_id": "",
       "version_major": 2,
       "version_minor": 0
      },
      "text/plain": [
       "FloatProgress(value=0.0, bar_style='info', description='Progress:', layout=Layout(height='25px', width='50%'),…"
      ]
     },
     "metadata": {},
     "output_type": "display_data"
    }
   ],
   "source": [
    "%%spark\n",
    "df_nyc_tlc.select(\"vendor_id\", \"pickup_at\", \"dropoff_at\", \"passenger_count\").write.format(\"delta\").save(\"oci://bucket-deltalake@id3kyspkytmr/deltatable\")"
   ]
  },
  {
   "cell_type": "code",
   "execution_count": null,
   "id": "5a892b27",
   "metadata": {},
   "outputs": [],
   "source": [
    "%%spark\n",
    "read_delta = spark.read.format(\"delta\").load(\"oci://bucket-deltalake@id3kyspkytmr/deltatable\")\n",
    "read_delta.printSchema()"
   ]
  },
  {
   "cell_type": "code",
   "execution_count": null,
   "id": "efa3e00a",
   "metadata": {},
   "outputs": [],
   "source": [
    "%%spark\n",
    "deltaTable = DeltaTable.forPath(spark, \"oci://bucket-deltalake@id3kyspkytmr/deltatable\")\n",
    "deltaTable.toDF().show()"
   ]
  },
  {
   "cell_type": "markdown",
   "id": "8ed6223e",
   "metadata": {},
   "source": [
    "# Delta Lake Features"
   ]
  },
  {
   "cell_type": "markdown",
   "id": "524e3ad9",
   "metadata": {},
   "source": [
    "## Schema Management - Schema Enforcement"
   ]
  },
  {
   "cell_type": "code",
   "execution_count": null,
   "id": "a18f890e",
   "metadata": {},
   "outputs": [],
   "source": [
    "%%spark\n",
    "deltaTable.toDF().show(2)"
   ]
  },
  {
   "cell_type": "code",
   "execution_count": null,
   "id": "3402bfe7",
   "metadata": {},
   "outputs": [],
   "source": [
    "%%spark\n",
    "read_delta.printSchema()"
   ]
  },
  {
   "cell_type": "code",
   "execution_count": null,
   "id": "f359a45d",
   "metadata": {},
   "outputs": [],
   "source": [
    "%%spark\n",
    "nschema = read_delta.schema\n",
    "\n",
    "new_schema_deltaTable = spark.createDataFrame([(\"2\", datetime.strptime('2023-02-01 00:47:37', '%Y-%m-%d %H:%M:%S'), datetime.strptime('2023-02-01 01:22:26', '%Y-%m-%d %H:%M:%S'), 1)], nschema).withColumn(\"passenger_count\",expr(\"cast(passenger_count as String)\"))\n",
    "\n",
    "new_schema_deltaTable.write.format(\"delta\").mode(\"append\").save(\"oci://bucket-deltalake@id3kyspkytmr/deltatable\")"
   ]
  },
  {
   "cell_type": "code",
   "execution_count": null,
   "id": "53304056",
   "metadata": {},
   "outputs": [],
   "source": [
    "%%spark\n",
    "new_schema_deltaTable.printSchema"
   ]
  },
  {
   "cell_type": "code",
   "execution_count": null,
   "id": "e3d4821d",
   "metadata": {},
   "outputs": [],
   "source": [
    "%%spark\n",
    "spark.read.format(\"delta\").load(\"oci://bucket-deltalake@id3kyspkytmr/deltatable\").printSchema()"
   ]
  },
  {
   "cell_type": "markdown",
   "id": "39d0f150",
   "metadata": {},
   "source": [
    "## Schema Management - Schema Evolution"
   ]
  },
  {
   "cell_type": "code",
   "execution_count": null,
   "id": "61353baa",
   "metadata": {},
   "outputs": [],
   "source": [
    "%%spark\n",
    "nschema = read_delta.schema\n",
    "\n",
    "se_deltaTable = spark.createDataFrame([(\"2\", datetime.strptime('2023-02-01 00:47:37', '%Y-%m-%d %H:%M:%S'), datetime.strptime('2023-02-01 01:22:26', '%Y-%m-%d %H:%M:%S'), 1)], nschema).withColumn(\"pickup_location_id\", lit(\"45\"))\n",
    "\n",
    "se_deltaTable.write.format(\"delta\").option(\"mergeSchema\", \"true\").mode(\"append\").save(\"oci://bucket-deltalake@id3kyspkytmr/deltatable\")"
   ]
  },
  {
   "cell_type": "code",
   "execution_count": null,
   "id": "a3040657",
   "metadata": {},
   "outputs": [],
   "source": [
    "%%spark\n",
    "spark.read.format(\"delta\").load(\"oci://bucket-deltalake@id3kyspkytmr/deltatable\").show()"
   ]
  },
  {
   "cell_type": "code",
   "execution_count": null,
   "id": "43526210",
   "metadata": {},
   "outputs": [],
   "source": [
    "%%spark\n",
    "spark.read.format(\"delta\").load(\"oci://bucket-deltalake@id3kyspkytmr/deltatable\").where(\"pickup_location_id = 45\").show()"
   ]
  },
  {
   "cell_type": "markdown",
   "id": "e72a5527",
   "metadata": {},
   "source": [
    "# Delta Lake Features"
   ]
  },
  {
   "cell_type": "markdown",
   "id": "ea139820",
   "metadata": {},
   "source": [
    "## Update - Inserts - Merge - Deletes"
   ]
  },
  {
   "cell_type": "code",
   "execution_count": null,
   "id": "24fef15e",
   "metadata": {},
   "outputs": [],
   "source": [
    "%%spark\n",
    "deltaTable = DeltaTable.forPath(spark, \"oci://bucket-deltalake@id3kyspkytmr/deltatable\")\n",
    "\n",
    "#Update\n",
    "\n",
    "deltaTable.update(\n",
    "        condition = expr(\"vendor_id = 1\"),\n",
    "        set = {\"pickup_location_id\" : lit(\"30\")}            \n",
    ")\n",
    "\n",
    "deltaTable.toDF().show()"
   ]
  },
  {
   "cell_type": "code",
   "execution_count": null,
   "id": "ed0733ab",
   "metadata": {},
   "outputs": [],
   "source": [
    "%%spark\n",
    "# Delete\n",
    "\n",
    "deltaTable.delete(condition = expr(\"pickup_location_id = 45\"))\n",
    "\n",
    "deltaTable.toDF().where(\"pickup_location_id = 45\").show()\n",
    "#deltaTable.toDF().show()"
   ]
  },
  {
   "cell_type": "markdown",
   "id": "7793ca96",
   "metadata": {},
   "source": [
    "# Delta Lake Features"
   ]
  },
  {
   "cell_type": "markdown",
   "id": "39e95561",
   "metadata": {},
   "source": [
    "## Time Travel"
   ]
  },
  {
   "cell_type": "code",
   "execution_count": null,
   "id": "d22e2420",
   "metadata": {},
   "outputs": [],
   "source": [
    "%%spark\n",
    "deltaTable.history().show()"
   ]
  },
  {
   "cell_type": "code",
   "execution_count": null,
   "id": "be57d7fc",
   "metadata": {},
   "outputs": [],
   "source": [
    "%%spark \n",
    "spark.read.format(\"delta\").option(\"versionAsOf\", \"0\").load(\"oci://bucket-deltalake@id3kyspkytmr/deltatable\").show()"
   ]
  }
 ],
 "metadata": {
  "kernelspec": {
   "display_name": "Python [conda env:pyspark32_p38_cpu_v2]",
   "language": "python",
   "name": "conda-env-pyspark32_p38_cpu_v2-py"
  },
  "language_info": {
   "codemirror_mode": {
    "name": "ipython",
    "version": 3
   },
   "file_extension": ".py",
   "mimetype": "text/x-python",
   "name": "python",
   "nbconvert_exporter": "python",
   "pygments_lexer": "ipython3",
   "version": "3.8.13"
  }
 },
 "nbformat": 4,
 "nbformat_minor": 5
}
