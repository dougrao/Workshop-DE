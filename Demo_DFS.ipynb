{
 "cells": [
  {
   "cell_type": "markdown",
   "id": "0d2677ba",
   "metadata": {},
   "source": [
    "### OCI Data Science - Useful Tips\n",
    "<details>\n",
    "<summary><font size=\"2\">Check for Public Internet Access</font></summary>\n",
    "\n",
    "```python\n",
    "import requests\n",
    "response = requests.get(\"https://oracle.com\")\n",
    "assert response.status_code==200, \"Internet connection failed\"\n",
    "```\n",
    "</details>\n",
    "<details>\n",
    "<summary><font size=\"2\">Helpful Documentation </font></summary>\n",
    "<ul><li><a href=\"https://docs.cloud.oracle.com/en-us/iaas/data-science/using/data-science.htm\">Data Science Service Documentation</a></li>\n",
    "<li><a href=\"https://docs.cloud.oracle.com/iaas/tools/ads-sdk/latest/index.html\">ADS documentation</a></li>\n",
    "</ul>\n",
    "</details>\n",
    "<details>\n",
    "<summary><font size=\"2\">Typical Cell Imports and Settings for ADS</font></summary>\n",
    "\n",
    "```python\n",
    "%load_ext autoreload\n",
    "%autoreload 2\n",
    "%matplotlib inline\n",
    "\n",
    "import warnings\n",
    "warnings.filterwarnings('ignore')\n",
    "\n",
    "import logging\n",
    "logging.basicConfig(format='%(levelname)s:%(message)s', level=logging.ERROR)\n",
    "\n",
    "import ads\n",
    "from ads.dataset.factory import DatasetFactory\n",
    "from ads.automl.provider import OracleAutoMLProvider\n",
    "from ads.automl.driver import AutoML\n",
    "from ads.evaluations.evaluator import ADSEvaluator\n",
    "from ads.common.data import ADSData\n",
    "from ads.explanations.explainer import ADSExplainer\n",
    "from ads.explanations.mlx_global_explainer import MLXGlobalExplainer\n",
    "from ads.explanations.mlx_local_explainer import MLXLocalExplainer\n",
    "from ads.catalog.model import ModelCatalog\n",
    "from ads.common.model_artifact import ModelArtifact\n",
    "```\n",
    "</details>\n",
    "<details>\n",
    "<summary><font size=\"2\">Useful Environment Variables</font></summary>\n",
    "\n",
    "```python\n",
    "import os\n",
    "print(os.environ[\"NB_SESSION_COMPARTMENT_OCID\"])\n",
    "print(os.environ[\"PROJECT_OCID\"])\n",
    "print(os.environ[\"USER_OCID\"])\n",
    "print(os.environ[\"TENANCY_OCID\"])\n",
    "print(os.environ[\"NB_REGION\"])\n",
    "```\n",
    "</details>"
   ]
  },
  {
   "cell_type": "code",
   "execution_count": null,
   "id": "d8e1f110",
   "metadata": {},
   "outputs": [],
   "source": [
    "# Upgrade Oracle ADS to pick up latest features and maintain compatibility with Oracle Cloud Infrastructure.\n",
    "# !pip install -U oracle-ads"
   ]
  },
  {
   "cell_type": "markdown",
   "id": "45dda8ac",
   "metadata": {},
   "source": [
    "## Preparando Instância Data Flow Studio"
   ]
  },
  {
   "cell_type": "code",
   "execution_count": null,
   "id": "039540e9",
   "metadata": {},
   "outputs": [],
   "source": [
    "# importando a biblioteca ADS e realizando a autenticação\n",
    "import ads\n",
    "\n",
    "ads.set_auth(\"resource_principal\")"
   ]
  },
  {
   "cell_type": "code",
   "execution_count": null,
   "id": "86539979",
   "metadata": {},
   "outputs": [],
   "source": [
    "# import os\n",
    "\n",
    "# compartment_id = os.environ.get(\"NB_SESSION_COMPARTMENT_OCID\")\n",
    "# logs_bucket_uri = \"oci://bucket-logs@id3kyspkytmr\"\n",
    "# archive_uri = \"oci://bucket-library@id3kyspkytmr/archive3.zip\"\n"
   ]
  },
  {
   "cell_type": "code",
   "execution_count": null,
   "id": "760df025",
   "metadata": {},
   "outputs": [],
   "source": [
    "import json\n",
    "\n",
    "def prepare_command(command: dict) -> str:\n",
    "    \"\"\"Converts dictionary command to the string formatted commands.\"\"\"\n",
    "    return f\"'{json.dumps(command)}'\""
   ]
  },
  {
   "cell_type": "code",
   "execution_count": null,
   "id": "41de1db4",
   "metadata": {},
   "outputs": [],
   "source": [
    "%load_ext dataflow.magics"
   ]
  },
  {
   "cell_type": "code",
   "execution_count": null,
   "id": "e2a730a9",
   "metadata": {},
   "outputs": [],
   "source": [
    "%help"
   ]
  },
  {
   "cell_type": "code",
   "execution_count": null,
   "id": "cb5b1111",
   "metadata": {},
   "outputs": [],
   "source": [
    "# command = prepare_command(\n",
    "#     {\n",
    "#         \"compartmentId\": compartment_id,\n",
    "#         \"displayName\": \"App_Demo_DataFlowStudio\",\n",
    "#         \"language\": \"PYTHON\",\n",
    "#         \"sparkVersion\": \"3.2.1\",\n",
    "#         \"numExecutors\": 4,\n",
    "#         \"archiveUri\": archive_uri,\n",
    "#         \"driverShape\": \"VM.Standard.E4.Flex\",\n",
    "#         \"executorShape\": \"VM.Standard.E4.Flex\",\n",
    "#         \"driverShapeConfig\": {\"ocpus\": 1, \"memoryInGBs\": 8},\n",
    "#         \"executorShapeConfig\": {\"ocpus\": 1, \"memoryInGBs\": 8},\n",
    "#         \"logsBucketUri\": logs_bucket_uri,\n",
    "#         \"type\": \"SESSION\",\n",
    "#         \"logsBucketUri\": logs_bucket_uri,\n",
    "#         }\n",
    "# ) \n",
    "# %create_session -l python -c $command"
   ]
  },
  {
   "cell_type": "code",
   "execution_count": null,
   "id": "12b48659",
   "metadata": {},
   "outputs": [],
   "source": [
    "%use_session -s ocid1.dataflowapplication.oc1.sa-saopaulo-1.antxeljrofnirbya4kxzg7llt5xpbjbndrwqz4dtx32yhhdjxm3l7phgzspq"
   ]
  },
  {
   "cell_type": "code",
   "execution_count": null,
   "id": "1ffe7c18",
   "metadata": {},
   "outputs": [],
   "source": [
    "# %status"
   ]
  },
  {
   "cell_type": "code",
   "execution_count": null,
   "id": "e3be9644",
   "metadata": {},
   "outputs": [],
   "source": [
    "# %stop_session"
   ]
  },
  {
   "cell_type": "code",
   "execution_count": null,
   "id": "ed1a07f5",
   "metadata": {},
   "outputs": [],
   "source": [
    "import os\n",
    "command = prepare_command(\n",
    "    {\n",
    "        \"compartmentId\": os.environ.get(\"NB_SESSION_COMPARTMENT_OCID\"),\n",
    "        \"displayName\": \"App_Demo_DataFlowStudio\",\n",
    "        \"applicationId\": \"ocid1.dataflowapplication.oc1.sa-saopaulo-1.antxeljrofnirbya4kxzg7llt5xpbjbndrwqz4dtx32yhhdjxm3l7phgzspq\",\n",
    "    }\n",
    ")\n",
    "\n",
    "%activate_session -l python -c $command"
   ]
  },
  {
   "cell_type": "code",
   "execution_count": null,
   "id": "1038bb35",
   "metadata": {},
   "outputs": [],
   "source": [
    "%configure_session -f -i \\\n",
    "'{\"configuration\": {\\\n",
    "    \"spark.archives\": \"oci://conda-envs@grea08wzjvwv/conda_environments/cpu/PySpark 3.2 and Data Flow/2.0/pyspark32_p38_cpu_v2#conda\" \\\n",
    "} \\\n",
    "}'"
   ]
  },
  {
   "cell_type": "markdown",
   "id": "b3714846",
   "metadata": {},
   "source": [
    "## Script Deltalake"
   ]
  },
  {
   "cell_type": "code",
   "execution_count": null,
   "id": "38eee2db",
   "metadata": {},
   "outputs": [],
   "source": [
    "%%spark\n",
    "import os\n",
    "import pyspark\n",
    "from pyspark.sql import SparkSession\n",
    "from pyspark.sql.functions import expr\n",
    "from pyspark.sql.functions import col\n",
    "from pyspark.sql.functions import lit\n",
    "from delta import *\n",
    "from datetime import datetime"
   ]
  },
  {
   "cell_type": "code",
   "execution_count": null,
   "id": "61c61bea",
   "metadata": {},
   "outputs": [],
   "source": [
    "%%spark\n",
    "builder = pyspark.sql.SparkSession.builder.appName(\"AppInLabDelta\") \\\n",
    "    .config(\"spark.sql.extensions\", \"io.delta.sql.DeltaSparkSessionExtension\") \\\n",
    "    .config(\"spark.sql.catalog.spark_catalog\", \"org.apache.spark.sql.delta.catalog.DeltaCatalog\")\n",
    "\n",
    "spark = configure_spark_with_delta_pip(builder).getOrCreate()"
   ]
  },
  {
   "cell_type": "code",
   "execution_count": null,
   "id": "7b454960",
   "metadata": {},
   "outputs": [],
   "source": [
    "%%spark\n",
    "df_nyc_tlc = spark.read.parquet(\"oci://bucket_tlc@grea08wzjvwv/2019/*.parquet\", header=False, inferSchema=True)"
   ]
  },
  {
   "cell_type": "code",
   "execution_count": null,
   "id": "cc3f2a68",
   "metadata": {},
   "outputs": [],
   "source": [
    "%%spark\n",
    "df_nyc_tlc.printSchema()"
   ]
  },
  {
   "cell_type": "code",
   "execution_count": null,
   "id": "04695579",
   "metadata": {},
   "outputs": [],
   "source": [
    "%%spark\n",
    "df_nyc_tlc.show(2)"
   ]
  },
  {
   "cell_type": "code",
   "execution_count": null,
   "id": "47200143",
   "metadata": {},
   "outputs": [],
   "source": [
    "%%spark\n",
    "df_nyc_tlc.select(\"tpep_pickup_datetime\", \"tpep_dropoff_datetime\", \"passenger_count\").write.format(\"delta\").save(\"oci://raw-data@grea08wzjvwv/deltatable\")"
   ]
  },
  {
   "cell_type": "code",
   "execution_count": null,
   "id": "00199b2e",
   "metadata": {},
   "outputs": [],
   "source": [
    "%%spark\n",
    "read_delta = spark.read.format(\"delta\").load(\"oci://raw-data@grea08wzjvwv/deltatable\")\n",
    "read_delta.printSchema()"
   ]
  },
  {
   "cell_type": "markdown",
   "id": "7dce9d0c",
   "metadata": {},
   "source": [
    "# Delta Lake Features"
   ]
  },
  {
   "cell_type": "markdown",
   "id": "5e62770c",
   "metadata": {},
   "source": [
    "## Schema Management - Schema Enforcement"
   ]
  },
  {
   "cell_type": "code",
   "execution_count": null,
   "id": "b56c5007",
   "metadata": {},
   "outputs": [],
   "source": [
    "%%spark\n",
    "read_delta.printSchema()"
   ]
  },
  {
   "cell_type": "code",
   "execution_count": null,
   "id": "f0e89002",
   "metadata": {},
   "outputs": [],
   "source": [
    "%%spark\n",
    "nschema = read_delta.schema\n",
    "\n",
    "new_schema_deltaTable = spark.createDataFrame([(datetime.strptime('2023-02-01 00:47:37', '%Y-%m-%d %H:%M:%S'), datetime.strptime('2023-02-01 01:22:26', '%Y-%m-%d %H:%M:%S'), 1.0)], nschema).withColumn(\"passenger_count\",expr(\"cast(passenger_count as Double)\"))\n",
    "\n",
    "new_schema_deltaTable.write.format(\"delta\").mode(\"append\").save(\"oci://raw-data@grea08wzjvwv/deltatable\")"
   ]
  },
  {
   "cell_type": "code",
   "execution_count": null,
   "id": "2e25a821",
   "metadata": {},
   "outputs": [],
   "source": [
    "%%spark\n",
    "new_schema_deltaTable.printSchema"
   ]
  },
  {
   "cell_type": "code",
   "execution_count": null,
   "id": "714416e3",
   "metadata": {},
   "outputs": [],
   "source": [
    "%%spark\n",
    "spark.read.format(\"delta\").load(\"oci://raw-data@grea08wzjvwv/deltatable\").printSchema()"
   ]
  },
  {
   "cell_type": "markdown",
   "id": "6c161962",
   "metadata": {},
   "source": [
    "## Schema Management - Schema Evolution"
   ]
  },
  {
   "cell_type": "code",
   "execution_count": null,
   "id": "91ca6cbd",
   "metadata": {},
   "outputs": [],
   "source": [
    "%%spark\n",
    "nschema = read_delta.schema\n",
    "\n",
    "se_deltaTable = spark.createDataFrame([(datetime.strptime('2023-02-01 00:47:37', '%Y-%m-%d %H:%M:%S'), datetime.strptime('2023-02-01 01:22:26', '%Y-%m-%d %H:%M:%S'), 1.0)], nschema).withColumn(\"pickup_location_id\", lit(\"45\"))\n",
    "\n",
    "se_deltaTable.write.format(\"delta\").option(\"mergeSchema\", \"true\").mode(\"append\").save(\"oci://raw-data@grea08wzjvwv/deltatable\")"
   ]
  },
  {
   "cell_type": "code",
   "execution_count": null,
   "id": "189aa944",
   "metadata": {},
   "outputs": [],
   "source": [
    "%%spark\n",
    "spark.read.format(\"delta\").load(\"oci://raw-data@grea08wzjvwv/deltatable\").show()"
   ]
  },
  {
   "cell_type": "code",
   "execution_count": null,
   "id": "bc782dc4",
   "metadata": {},
   "outputs": [],
   "source": [
    "%%spark\n",
    "spark.read.format(\"delta\").load(\"oci://raw-data@grea08wzjvwv/deltatable\").where(\"pickup_location_id = 45\").show()"
   ]
  }
 ],
 "metadata": {
  "kernelspec": {
   "display_name": "Python [conda env:pyspark32_p38_cpu_v2]",
   "language": "python",
   "name": "conda-env-pyspark32_p38_cpu_v2-py"
  },
  "language_info": {
   "codemirror_mode": {
    "name": "ipython",
    "version": 3
   },
   "file_extension": ".py",
   "mimetype": "text/x-python",
   "name": "python",
   "nbconvert_exporter": "python",
   "pygments_lexer": "ipython3",
   "version": "3.8.13"
  }
 },
 "nbformat": 4,
 "nbformat_minor": 5
}
